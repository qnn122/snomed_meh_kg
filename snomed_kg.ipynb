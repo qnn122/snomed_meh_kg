{
 "cells": [
  {
   "cell_type": "code",
   "execution_count": 1,
   "metadata": {},
   "outputs": [],
   "source": [
    "import networkx as nx\n",
    "import srsly\n",
    "import matplotlib.pyplot as plt\n",
    "from pyvis.network import Network\n",
    "from IPython.display import HTML, display\n",
    "from tqdm import tqdm\n",
    "import pandas as pd\n",
    "from math import log\n",
    "%matplotlib inline"
   ]
  },
  {
   "cell_type": "code",
   "execution_count": 2,
   "metadata": {},
   "outputs": [
    {
     "data": {
      "text/plain": [
       "2.0"
      ]
     },
     "execution_count": 2,
     "metadata": {},
     "output_type": "execute_result"
    }
   ],
   "source": [
    "import math\n",
    "math.sqrt(4)"
   ]
  },
  {
   "cell_type": "code",
   "execution_count": 4,
   "metadata": {},
   "outputs": [
    {
     "data": {
      "text/plain": [
       "2212"
      ]
     },
     "execution_count": 4,
     "metadata": {},
     "output_type": "execute_result"
    }
   ],
   "source": [
    "db = list(srsly.read_jsonl('data/snomed_db.jsonl'))\n",
    "len(db)"
   ]
  },
  {
   "cell_type": "markdown",
   "metadata": {},
   "source": [
    "**Get a node**"
   ]
  },
  {
   "cell_type": "code",
   "execution_count": 5,
   "metadata": {},
   "outputs": [],
   "source": [
    "def getConceptById(id):\n",
    "    for c in db:\n",
    "        if c['conceptId'] == id:\n",
    "            return c\n",
    "\n",
    "def getConceptByName(name):\n",
    "    for c in db:\n",
    "        if c['fsn']['term'] == name:\n",
    "            return c"
   ]
  },
  {
   "cell_type": "code",
   "execution_count": 6,
   "metadata": {},
   "outputs": [],
   "source": [
    "def getNeighborConceptsByName(name):\n",
    "    node = getConceptByName(name) # get a concept by its id\n",
    "\n",
    "    for i, r in enumerate(node['relationships']):\n",
    "        if r['characteristicType'] == 'STATED_RELATIONSHIP':\n",
    "            print(f\"{i}\\t| {r['target']['id']}\\t| {r['target']['fsn']['term']}\")\n",
    "            print(f\"\\t\\t\\t  {r['characteristicType']}\")\n",
    "            print()\n",
    "    "
   ]
  },
  {
   "cell_type": "code",
   "execution_count": 7,
   "metadata": {},
   "outputs": [
    {
     "data": {
      "text/plain": [
       "'Cortical cataract (disorder)'"
      ]
     },
     "execution_count": 7,
     "metadata": {},
     "output_type": "execute_result"
    }
   ],
   "source": [
    "id = 193576003\n",
    "node = getConceptById(str(id)) # get a concept by its id\n",
    "node['fsn']['term']"
   ]
  },
  {
   "cell_type": "code",
   "execution_count": 7,
   "metadata": {},
   "outputs": [
    {
     "name": "stdout",
     "output_type": "stream",
     "text": [
      "5\t| 363343008\t| Hereditary disorder of the visual system (disorder)\n",
      "\t\t\t  STATED_RELATIONSHIP\n",
      "\n",
      "6\t| 314407005\t| Retinal dystrophy (disorder)\n",
      "\t\t\t  STATED_RELATIONSHIP\n",
      "\n",
      "8\t| 5665001\t| Retinal structure (body structure)\n",
      "\t\t\t  STATED_RELATIONSHIP\n",
      "\n"
     ]
    }
   ],
   "source": [
    "name = 'Hereditary retinal dystrophy (disorder)'\n",
    "getNeighborConceptsByName(name)"
   ]
  },
  {
   "cell_type": "code",
   "execution_count": 8,
   "metadata": {},
   "outputs": [
    {
     "data": {
      "text/plain": [
       "{'conceptId': '41799005',\n",
       " 'fsn': {'term': 'Hereditary retinal dystrophy (disorder)', 'lang': 'en'},\n",
       " 'pt': {'term': 'Hereditary retinal dystrophy', 'lang': 'en'},\n",
       " 'active': True,\n",
       " 'effectiveTime': '20020131',\n",
       " 'released': True,\n",
       " 'releasedEffectiveTime': 20020131,\n",
       " 'moduleId': '900000000000207008',\n",
       " 'definitionStatus': 'PRIMITIVE',\n",
       " 'descriptions': [{'active': True,\n",
       "   'moduleId': '900000000000207008',\n",
       "   'released': True,\n",
       "   'releasedEffectiveTime': 20170731,\n",
       "   'descriptionId': '778627018',\n",
       "   'term': 'Hereditary retinal dystrophy (disorder)',\n",
       "   'conceptId': '41799005',\n",
       "   'typeId': '900000000000003001',\n",
       "   'acceptabilityMap': {'900000000000509007': 'PREFERRED',\n",
       "    '900000000000508004': 'PREFERRED'},\n",
       "   'type': 'FSN',\n",
       "   'caseSignificance': 'CASE_INSENSITIVE',\n",
       "   'lang': 'en',\n",
       "   'effectiveTime': '20170731'},\n",
       "  {'active': False,\n",
       "   'moduleId': '900000000000207008',\n",
       "   'released': True,\n",
       "   'releasedEffectiveTime': 20020131,\n",
       "   'descriptionId': '69729011',\n",
       "   'term': 'Hereditary retinal dystrophy, NOS',\n",
       "   'conceptId': '41799005',\n",
       "   'typeId': '900000000000013009',\n",
       "   'acceptabilityMap': {},\n",
       "   'type': 'SYNONYM',\n",
       "   'caseSignificance': 'INITIAL_CHARACTER_CASE_INSENSITIVE',\n",
       "   'lang': 'en',\n",
       "   'effectiveTime': '20020131'},\n",
       "  {'active': True,\n",
       "   'moduleId': '900000000000207008',\n",
       "   'released': True,\n",
       "   'releasedEffectiveTime': 20170731,\n",
       "   'descriptionId': '69728015',\n",
       "   'term': 'Hereditary retinal dystrophy',\n",
       "   'conceptId': '41799005',\n",
       "   'typeId': '900000000000013009',\n",
       "   'acceptabilityMap': {'900000000000509007': 'PREFERRED',\n",
       "    '900000000000508004': 'PREFERRED'},\n",
       "   'type': 'SYNONYM',\n",
       "   'caseSignificance': 'CASE_INSENSITIVE',\n",
       "   'lang': 'en',\n",
       "   'effectiveTime': '20170731'}],\n",
       " 'classAxioms': [{'axiomId': '54277480-2003-4e66-8645-a34365212f39',\n",
       "   'moduleId': '900000000000207008',\n",
       "   'active': True,\n",
       "   'released': True,\n",
       "   'definitionStatusId': '900000000000074008',\n",
       "   'relationships': [{'active': True,\n",
       "     'moduleId': '900000000000207008',\n",
       "     'released': False,\n",
       "     'sourceId': '41799005',\n",
       "     'destinationId': '363343008',\n",
       "     'typeId': '116680003',\n",
       "     'type': {'conceptId': '116680003',\n",
       "      'definitionStatus': 'PRIMITIVE',\n",
       "      'moduleId': '900000000000012004',\n",
       "      'fsn': {'term': 'Is a (attribute)', 'lang': 'en'},\n",
       "      'pt': {'term': 'Is a', 'lang': 'en'},\n",
       "      'id': '116680003'},\n",
       "     'target': {'conceptId': '363343008',\n",
       "      'definitionStatus': 'FULLY_DEFINED',\n",
       "      'moduleId': '900000000000207008',\n",
       "      'fsn': {'term': 'Hereditary disorder of the visual system (disorder)',\n",
       "       'lang': 'en'},\n",
       "      'pt': {'term': 'Hereditary disorder of the visual system', 'lang': 'en'},\n",
       "      'id': '363343008'},\n",
       "     'groupId': 0,\n",
       "     'characteristicType': 'STATED_RELATIONSHIP',\n",
       "     'modifier': 'EXISTENTIAL'},\n",
       "    {'active': True,\n",
       "     'moduleId': '900000000000207008',\n",
       "     'released': False,\n",
       "     'sourceId': '41799005',\n",
       "     'destinationId': '314407005',\n",
       "     'typeId': '116680003',\n",
       "     'type': {'conceptId': '116680003',\n",
       "      'definitionStatus': 'PRIMITIVE',\n",
       "      'moduleId': '900000000000012004',\n",
       "      'fsn': {'term': 'Is a (attribute)', 'lang': 'en'},\n",
       "      'pt': {'term': 'Is a', 'lang': 'en'},\n",
       "      'id': '116680003'},\n",
       "     'target': {'conceptId': '314407005',\n",
       "      'definitionStatus': 'FULLY_DEFINED',\n",
       "      'moduleId': '900000000000207008',\n",
       "      'fsn': {'term': 'Retinal dystrophy (disorder)', 'lang': 'en'},\n",
       "      'pt': {'term': 'Retinal dystrophy', 'lang': 'en'},\n",
       "      'id': '314407005'},\n",
       "     'groupId': 0,\n",
       "     'characteristicType': 'STATED_RELATIONSHIP',\n",
       "     'modifier': 'EXISTENTIAL'},\n",
       "    {'active': True,\n",
       "     'moduleId': '900000000000207008',\n",
       "     'released': False,\n",
       "     'sourceId': '41799005',\n",
       "     'destinationId': '5665001',\n",
       "     'typeId': '363698007',\n",
       "     'type': {'conceptId': '363698007',\n",
       "      'definitionStatus': 'PRIMITIVE',\n",
       "      'moduleId': '900000000000012004',\n",
       "      'fsn': {'term': 'Finding site (attribute)', 'lang': 'en'},\n",
       "      'pt': {'term': 'Finding site', 'lang': 'en'},\n",
       "      'id': '363698007'},\n",
       "     'target': {'conceptId': '5665001',\n",
       "      'definitionStatus': 'PRIMITIVE',\n",
       "      'moduleId': '900000000000207008',\n",
       "      'fsn': {'term': 'Retinal structure (body structure)', 'lang': 'en'},\n",
       "      'pt': {'term': 'Retinal structure', 'lang': 'en'},\n",
       "      'id': '5665001'},\n",
       "     'groupId': 1,\n",
       "     'characteristicType': 'STATED_RELATIONSHIP',\n",
       "     'modifier': 'EXISTENTIAL'},\n",
       "    {'active': True,\n",
       "     'moduleId': '900000000000207008',\n",
       "     'released': False,\n",
       "     'sourceId': '41799005',\n",
       "     'destinationId': '4720007',\n",
       "     'typeId': '116676008',\n",
       "     'type': {'conceptId': '116676008',\n",
       "      'definitionStatus': 'PRIMITIVE',\n",
       "      'moduleId': '900000000000012004',\n",
       "      'fsn': {'term': 'Associated morphology (attribute)', 'lang': 'en'},\n",
       "      'pt': {'term': 'Associated morphology', 'lang': 'en'},\n",
       "      'id': '116676008'},\n",
       "     'target': {'conceptId': '4720007',\n",
       "      'definitionStatus': 'PRIMITIVE',\n",
       "      'moduleId': '900000000000207008',\n",
       "      'fsn': {'term': 'Dystrophy (morphologic abnormality)', 'lang': 'en'},\n",
       "      'pt': {'term': 'Dystrophy', 'lang': 'en'},\n",
       "      'id': '4720007'},\n",
       "     'groupId': 1,\n",
       "     'characteristicType': 'STATED_RELATIONSHIP',\n",
       "     'modifier': 'EXISTENTIAL'}],\n",
       "   'id': '54277480-2003-4e66-8645-a34365212f39',\n",
       "   'definitionStatus': 'PRIMITIVE',\n",
       "   'effectiveTime': 20190731}],\n",
       " 'gciAxioms': [],\n",
       " 'relationships': [{'active': True,\n",
       "   'moduleId': '900000000000207008',\n",
       "   'released': True,\n",
       "   'releasedEffectiveTime': 20020731,\n",
       "   'relationshipId': '1674935025',\n",
       "   'sourceId': '41799005',\n",
       "   'destinationId': '363343008',\n",
       "   'typeId': '116680003',\n",
       "   'type': {'conceptId': '116680003',\n",
       "    'definitionStatus': 'PRIMITIVE',\n",
       "    'moduleId': '900000000000012004',\n",
       "    'fsn': {'term': 'Is a (attribute)', 'lang': 'en'},\n",
       "    'pt': {'term': 'Is a', 'lang': 'en'},\n",
       "    'id': '116680003'},\n",
       "   'target': {'conceptId': '363343008',\n",
       "    'definitionStatus': 'FULLY_DEFINED',\n",
       "    'moduleId': '900000000000207008',\n",
       "    'fsn': {'term': 'Hereditary disorder of the visual system (disorder)',\n",
       "     'lang': 'en'},\n",
       "    'pt': {'term': 'Hereditary disorder of the visual system', 'lang': 'en'},\n",
       "    'id': '363343008'},\n",
       "   'groupId': 0,\n",
       "   'characteristicType': 'INFERRED_RELATIONSHIP',\n",
       "   'modifier': 'EXISTENTIAL',\n",
       "   'effectiveTime': '20020731',\n",
       "   'id': '1674935025'},\n",
       "  {'active': True,\n",
       "   'moduleId': '900000000000207008',\n",
       "   'released': True,\n",
       "   'releasedEffectiveTime': 20020131,\n",
       "   'relationshipId': '216203022',\n",
       "   'sourceId': '41799005',\n",
       "   'destinationId': '314407005',\n",
       "   'typeId': '116680003',\n",
       "   'type': {'conceptId': '116680003',\n",
       "    'definitionStatus': 'PRIMITIVE',\n",
       "    'moduleId': '900000000000012004',\n",
       "    'fsn': {'term': 'Is a (attribute)', 'lang': 'en'},\n",
       "    'pt': {'term': 'Is a', 'lang': 'en'},\n",
       "    'id': '116680003'},\n",
       "   'target': {'conceptId': '314407005',\n",
       "    'definitionStatus': 'FULLY_DEFINED',\n",
       "    'moduleId': '900000000000207008',\n",
       "    'fsn': {'term': 'Retinal dystrophy (disorder)', 'lang': 'en'},\n",
       "    'pt': {'term': 'Retinal dystrophy', 'lang': 'en'},\n",
       "    'id': '314407005'},\n",
       "   'groupId': 0,\n",
       "   'characteristicType': 'INFERRED_RELATIONSHIP',\n",
       "   'modifier': 'EXISTENTIAL',\n",
       "   'effectiveTime': '20020131',\n",
       "   'id': '216203022'},\n",
       "  {'active': True,\n",
       "   'moduleId': '900000000000207008',\n",
       "   'released': True,\n",
       "   'releasedEffectiveTime': 20140731,\n",
       "   'relationshipId': '5049145028',\n",
       "   'sourceId': '41799005',\n",
       "   'destinationId': '5665001',\n",
       "   'typeId': '363698007',\n",
       "   'type': {'conceptId': '363698007',\n",
       "    'definitionStatus': 'PRIMITIVE',\n",
       "    'moduleId': '900000000000012004',\n",
       "    'fsn': {'term': 'Finding site (attribute)', 'lang': 'en'},\n",
       "    'pt': {'term': 'Finding site', 'lang': 'en'},\n",
       "    'id': '363698007'},\n",
       "   'target': {'conceptId': '5665001',\n",
       "    'definitionStatus': 'PRIMITIVE',\n",
       "    'moduleId': '900000000000207008',\n",
       "    'fsn': {'term': 'Retinal structure (body structure)', 'lang': 'en'},\n",
       "    'pt': {'term': 'Retinal structure', 'lang': 'en'},\n",
       "    'id': '5665001'},\n",
       "   'groupId': 1,\n",
       "   'characteristicType': 'INFERRED_RELATIONSHIP',\n",
       "   'modifier': 'EXISTENTIAL',\n",
       "   'effectiveTime': '20140731',\n",
       "   'id': '5049145028'},\n",
       "  {'active': True,\n",
       "   'moduleId': '900000000000207008',\n",
       "   'released': True,\n",
       "   'releasedEffectiveTime': 20140731,\n",
       "   'relationshipId': '5049144029',\n",
       "   'sourceId': '41799005',\n",
       "   'destinationId': '4720007',\n",
       "   'typeId': '116676008',\n",
       "   'type': {'conceptId': '116676008',\n",
       "    'definitionStatus': 'PRIMITIVE',\n",
       "    'moduleId': '900000000000012004',\n",
       "    'fsn': {'term': 'Associated morphology (attribute)', 'lang': 'en'},\n",
       "    'pt': {'term': 'Associated morphology', 'lang': 'en'},\n",
       "    'id': '116676008'},\n",
       "   'target': {'conceptId': '4720007',\n",
       "    'definitionStatus': 'PRIMITIVE',\n",
       "    'moduleId': '900000000000207008',\n",
       "    'fsn': {'term': 'Dystrophy (morphologic abnormality)', 'lang': 'en'},\n",
       "    'pt': {'term': 'Dystrophy', 'lang': 'en'},\n",
       "    'id': '4720007'},\n",
       "   'groupId': 1,\n",
       "   'characteristicType': 'INFERRED_RELATIONSHIP',\n",
       "   'modifier': 'EXISTENTIAL',\n",
       "   'effectiveTime': '20140731',\n",
       "   'id': '5049144029'},\n",
       "  {'active': False,\n",
       "   'moduleId': '900000000000207008',\n",
       "   'released': True,\n",
       "   'releasedEffectiveTime': 20020731,\n",
       "   'relationshipId': '216202028',\n",
       "   'sourceId': '41799005',\n",
       "   'destinationId': '32895009',\n",
       "   'typeId': '116680003',\n",
       "   'type': {'conceptId': '116680003',\n",
       "    'definitionStatus': 'PRIMITIVE',\n",
       "    'moduleId': '900000000000012004',\n",
       "    'fsn': {'term': 'Is a (attribute)', 'lang': 'en'},\n",
       "    'pt': {'term': 'Is a', 'lang': 'en'},\n",
       "    'id': '116680003'},\n",
       "   'target': {'conceptId': '32895009',\n",
       "    'definitionStatus': 'PRIMITIVE',\n",
       "    'moduleId': '900000000000207008',\n",
       "    'fsn': {'term': 'Hereditary disease (disorder)', 'lang': 'en'},\n",
       "    'pt': {'term': 'Hereditary disease', 'lang': 'en'},\n",
       "    'id': '32895009'},\n",
       "   'groupId': 0,\n",
       "   'characteristicType': 'INFERRED_RELATIONSHIP',\n",
       "   'modifier': 'EXISTENTIAL',\n",
       "   'effectiveTime': '20020731',\n",
       "   'id': '216202028'},\n",
       "  {'active': False,\n",
       "   'moduleId': '900000000000207008',\n",
       "   'released': True,\n",
       "   'releasedEffectiveTime': 20190731,\n",
       "   'relationshipId': '4024819022',\n",
       "   'sourceId': '41799005',\n",
       "   'destinationId': '363343008',\n",
       "   'typeId': '116680003',\n",
       "   'type': {'conceptId': '116680003',\n",
       "    'definitionStatus': 'PRIMITIVE',\n",
       "    'moduleId': '900000000000012004',\n",
       "    'fsn': {'term': 'Is a (attribute)', 'lang': 'en'},\n",
       "    'pt': {'term': 'Is a', 'lang': 'en'},\n",
       "    'id': '116680003'},\n",
       "   'target': {'conceptId': '363343008',\n",
       "    'definitionStatus': 'FULLY_DEFINED',\n",
       "    'moduleId': '900000000000207008',\n",
       "    'fsn': {'term': 'Hereditary disorder of the visual system (disorder)',\n",
       "     'lang': 'en'},\n",
       "    'pt': {'term': 'Hereditary disorder of the visual system', 'lang': 'en'},\n",
       "    'id': '363343008'},\n",
       "   'groupId': 0,\n",
       "   'characteristicType': 'STATED_RELATIONSHIP',\n",
       "   'modifier': 'EXISTENTIAL',\n",
       "   'effectiveTime': '20190731',\n",
       "   'id': '4024819022'},\n",
       "  {'active': False,\n",
       "   'moduleId': '900000000000207008',\n",
       "   'released': True,\n",
       "   'releasedEffectiveTime': 20190731,\n",
       "   'relationshipId': '4024820027',\n",
       "   'sourceId': '41799005',\n",
       "   'destinationId': '314407005',\n",
       "   'typeId': '116680003',\n",
       "   'type': {'conceptId': '116680003',\n",
       "    'definitionStatus': 'PRIMITIVE',\n",
       "    'moduleId': '900000000000012004',\n",
       "    'fsn': {'term': 'Is a (attribute)', 'lang': 'en'},\n",
       "    'pt': {'term': 'Is a', 'lang': 'en'},\n",
       "    'id': '116680003'},\n",
       "   'target': {'conceptId': '314407005',\n",
       "    'definitionStatus': 'FULLY_DEFINED',\n",
       "    'moduleId': '900000000000207008',\n",
       "    'fsn': {'term': 'Retinal dystrophy (disorder)', 'lang': 'en'},\n",
       "    'pt': {'term': 'Retinal dystrophy', 'lang': 'en'},\n",
       "    'id': '314407005'},\n",
       "   'groupId': 0,\n",
       "   'characteristicType': 'STATED_RELATIONSHIP',\n",
       "   'modifier': 'EXISTENTIAL',\n",
       "   'effectiveTime': '20190731',\n",
       "   'id': '4024820027'},\n",
       "  {'active': False,\n",
       "   'moduleId': '900000000000207008',\n",
       "   'released': True,\n",
       "   'releasedEffectiveTime': 20140731,\n",
       "   'relationshipId': '776496028',\n",
       "   'sourceId': '41799005',\n",
       "   'destinationId': '5665001',\n",
       "   'typeId': '363698007',\n",
       "   'type': {'conceptId': '363698007',\n",
       "    'definitionStatus': 'PRIMITIVE',\n",
       "    'moduleId': '900000000000012004',\n",
       "    'fsn': {'term': 'Finding site (attribute)', 'lang': 'en'},\n",
       "    'pt': {'term': 'Finding site', 'lang': 'en'},\n",
       "    'id': '363698007'},\n",
       "   'target': {'conceptId': '5665001',\n",
       "    'definitionStatus': 'PRIMITIVE',\n",
       "    'moduleId': '900000000000207008',\n",
       "    'fsn': {'term': 'Retinal structure (body structure)', 'lang': 'en'},\n",
       "    'pt': {'term': 'Retinal structure', 'lang': 'en'},\n",
       "    'id': '5665001'},\n",
       "   'groupId': 0,\n",
       "   'characteristicType': 'INFERRED_RELATIONSHIP',\n",
       "   'modifier': 'EXISTENTIAL',\n",
       "   'effectiveTime': '20140731',\n",
       "   'id': '776496028'},\n",
       "  {'active': False,\n",
       "   'moduleId': '900000000000207008',\n",
       "   'released': True,\n",
       "   'releasedEffectiveTime': 20190731,\n",
       "   'relationshipId': '4348530025',\n",
       "   'sourceId': '41799005',\n",
       "   'destinationId': '5665001',\n",
       "   'typeId': '363698007',\n",
       "   'type': {'conceptId': '363698007',\n",
       "    'definitionStatus': 'PRIMITIVE',\n",
       "    'moduleId': '900000000000012004',\n",
       "    'fsn': {'term': 'Finding site (attribute)', 'lang': 'en'},\n",
       "    'pt': {'term': 'Finding site', 'lang': 'en'},\n",
       "    'id': '363698007'},\n",
       "   'target': {'conceptId': '5665001',\n",
       "    'definitionStatus': 'PRIMITIVE',\n",
       "    'moduleId': '900000000000207008',\n",
       "    'fsn': {'term': 'Retinal structure (body structure)', 'lang': 'en'},\n",
       "    'pt': {'term': 'Retinal structure', 'lang': 'en'},\n",
       "    'id': '5665001'},\n",
       "   'groupId': 0,\n",
       "   'characteristicType': 'STATED_RELATIONSHIP',\n",
       "   'modifier': 'EXISTENTIAL',\n",
       "   'effectiveTime': '20190731',\n",
       "   'id': '4348530025'}],\n",
       " 'validationResults': []}"
      ]
     },
     "execution_count": 8,
     "metadata": {},
     "output_type": "execute_result"
    }
   ],
   "source": [
    "node = getConceptByName(name)\n",
    "node"
   ]
  },
  {
   "cell_type": "code",
   "execution_count": 9,
   "metadata": {},
   "outputs": [],
   "source": [
    "ids = [c['conceptId'] for c in db]"
   ]
  },
  {
   "cell_type": "code",
   "execution_count": null,
   "metadata": {},
   "outputs": [],
   "source": [
    "names = [c['pt']['term'] for c in db]\n",
    "names"
   ]
  },
  {
   "cell_type": "code",
   "execution_count": null,
   "metadata": {},
   "outputs": [],
   "source": [
    "name_filt = [n for n in names if 'disease' in n]\n",
    "name_filt"
   ]
  },
  {
   "cell_type": "markdown",
   "metadata": {},
   "source": [
    "**Get neighbors of a node**"
   ]
  },
  {
   "cell_type": "code",
   "execution_count": null,
   "metadata": {},
   "outputs": [],
   "source": [
    "for i, r in enumerate(node['relationships']):\n",
    "    if r['characteristicType'] == 'STATED_RELATIONSHIP':\n",
    "        print(f\"{i}\\t| {r['target']['id']}\\t| {r['target']['fsn']['term']}\")\n",
    "        print(f\"\\t\\t\\t  {r['characteristicType']}\")\n",
    "        print()"
   ]
  },
  {
   "cell_type": "markdown",
   "metadata": {},
   "source": [
    "**Graph basics**"
   ]
  },
  {
   "cell_type": "code",
   "execution_count": 8,
   "metadata": {},
   "outputs": [
    {
     "data": {
      "image/png": "[encoded data removed]",
      "text/plain": [
       "<Figure size 432x288 with 1 Axes>"
      ]
     },
     "metadata": {},
     "output_type": "display_data"
    }
   ],
   "source": [
    "# Undirected graph\n",
    "G = nx.Graph()\n",
    "G.add_node('cataract')\n",
    "G.add_edge('a', 'b')\n",
    "nx.draw(G, with_labels=True, font_weight='bold', node_color='red')\n",
    "plt.show()"
   ]
  },
  {
   "cell_type": "code",
   "execution_count": 9,
   "metadata": {},
   "outputs": [
    {
     "data": {
      "image/png": "[encoded data removed]",
      "text/plain": [
       "<Figure size 432x288 with 1 Axes>"
      ]
     },
     "metadata": {},
     "output_type": "display_data"
    }
   ],
   "source": [
    "# Directed graph\n",
    "G = nx.DiGraph()\n",
    "G.add_nodes_from([1, 2, 3, 4])\n",
    "G.add_edges_from([(1, 2), (2, 1), (2, 3)])\n",
    "nx.draw(G, with_labels=True, font_weight='bold', node_color='red')"
   ]
  },
  {
   "cell_type": "code",
   "execution_count": 10,
   "metadata": {},
   "outputs": [
    {
     "data": {
      "text/plain": [
       "\"\\noptions = {\\n    'node_color': 'black',\\n    'node_size': 100,\\n    'width': 3,\\n}\\nsubax1 = plt.subplot(221)\\nnx.draw_random(G, **options)\\n\""
      ]
     },
     "execution_count": 10,
     "metadata": {},
     "output_type": "execute_result"
    }
   ],
   "source": [
    "# Change graph properties\n",
    "'''\n",
    "options = {\n",
    "    'node_color': 'black',\n",
    "    'node_size': 100,\n",
    "    'width': 3,\n",
    "}\n",
    "subax1 = plt.subplot(221)\n",
    "nx.draw_random(G, **options)\n",
    "'''"
   ]
  },
  {
   "cell_type": "markdown",
   "metadata": {},
   "source": [
    "**Plot a node and its closest neighbors**"
   ]
  },
  {
   "cell_type": "code",
   "execution_count": 11,
   "metadata": {},
   "outputs": [
    {
     "name": "stdout",
     "output_type": "stream",
     "text": [
      "3\t| 193570009\t| Cataract\n",
      "\t\t\t  STATED_RELATIONSHIP\n",
      "\n",
      "6\t| 33347001\t| Structure of cortex of lens\n",
      "\t\t\t  STATED_RELATIONSHIP\n",
      "\n",
      "9\t| 128305008\t| Opacity\n",
      "\t\t\t  STATED_RELATIONSHIP\n",
      "\n",
      "11\t| 128306009\t| Cataract\n",
      "\t\t\t  STATED_RELATIONSHIP\n",
      "\n"
     ]
    }
   ],
   "source": [
    "id = 193576003\n",
    "node = getConceptById(str(id)) # get a concept by its id\n",
    "root = node['fsn']['term']\n",
    "\n",
    "G = nx.DiGraph()\n",
    "for i, r in enumerate(node['relationships']):\n",
    "    if r['characteristicType'] == 'STATED_RELATIONSHIP':\n",
    "        child = r['target']\n",
    "        child_id = child['id']\n",
    "        #child_name = child['fsn']['term'] # chose 'fsn' or 'pt'\n",
    "        child_name = child['pt']['term']\n",
    "        \n",
    "        # print info\n",
    "        print(f\"{i}\\t| {child_id}\\t| {child_name}\")\n",
    "        print(f\"\\t\\t\\t  {r['characteristicType']}\")\n",
    "        print()\n",
    "        \n",
    "        # Construct graph\n",
    "        G.add_edges_from([(root,child_name)])"
   ]
  },
  {
   "cell_type": "code",
   "execution_count": 12,
   "metadata": {},
   "outputs": [
    {
     "data": {
      "text/plain": [
       "<function matplotlib.pyplot.plot(*args, scalex=True, scaley=True, data=None, **kwargs)>"
      ]
     },
     "execution_count": 12,
     "metadata": {},
     "output_type": "execute_result"
    },
    {
     "data": {
      "image/png": "[encoded data removed]",
      "text/plain": [
       "<Figure size 432x288 with 1 Axes>"
      ]
     },
     "metadata": {},
     "output_type": "display_data"
    }
   ],
   "source": [
    "options = {\n",
    "    'node_color': 'black',\n",
    "    'node_size': 100,\n",
    "    'width': 3,\n",
    "}\n",
    "nx.draw(G, with_labels=True, font_weight='bold', node_color='red')\n",
    "plt.plot"
   ]
  },
  {
   "cell_type": "code",
   "execution_count": 13,
   "metadata": {},
   "outputs": [
    {
     "data": {
      "text/plain": [
       "<function matplotlib.pyplot.plot(*args, scalex=True, scaley=True, data=None, **kwargs)>"
      ]
     },
     "execution_count": 13,
     "metadata": {},
     "output_type": "execute_result"
    },
    {
     "data": {
      "image/png": "[encoded data removed]",
      "text/plain": [
       "<Figure size 432x288 with 1 Axes>"
      ]
     },
     "metadata": {},
     "output_type": "display_data"
    }
   ],
   "source": [
    "options = {\n",
    "    'with_labels': True,\n",
    "    'font_weight':'bold',\n",
    "    'node_color': 'red',\n",
    "    'node_size': 1000,\n",
    "    'width': 1,\n",
    "    'edge_color':'b', \n",
    "    'arrowsize':20\n",
    "}\n",
    "nx.draw(G, **options)\n",
    "plt.plot"
   ]
  },
  {
   "cell_type": "markdown",
   "metadata": {},
   "source": [
    "**Interactive graph**"
   ]
  },
  {
   "cell_type": "code",
   "execution_count": 28,
   "metadata": {},
   "outputs": [
    {
     "name": "stdout",
     "output_type": "stream",
     "text": [
      "10\n",
      "5.0\n"
     ]
    },
    {
     "data": {
      "text/html": [
       "\n",
       "        <iframe\n",
       "            width=\"800\"\n",
       "            height=\"800\"\n",
       "            src=\"snomed.html\"\n",
       "            frameborder=\"0\"\n",
       "            allowfullscreen\n",
       "        ></iframe>\n",
       "        "
      ],
      "text/plain": [
       "<IPython.lib.display.IFrame at 0x7f96756b2ef0>"
      ]
     },
     "execution_count": 28,
     "metadata": {},
     "output_type": "execute_result"
    }
   ],
   "source": [
    "g = Network(height=800, width=800, directed=True, notebook=True)\n",
    "#g.toggle_hide_edges_on_drag(True)\n",
    "#g.barnes_hut() # use this particular physics solver\n",
    "g.from_nx(G)\n",
    "g.get_node('Opacity')['color'] = '#dd4b39'\n",
    "print(g.get_node('Opacity')['size'])\n",
    "g.get_node('Opacity')['size'] /= 2\n",
    "print(g.get_node('Opacity')['size'])\n",
    "g.show('snomed.html')"
   ]
  },
  {
   "cell_type": "code",
   "execution_count": 31,
   "metadata": {},
   "outputs": [
    {
     "ename": "NameError",
     "evalue": "name 'df' is not defined",
     "output_type": "error",
     "traceback": [
      "\u001b[0;31m---------------------------------------------------------------------------\u001b[0m",
      "\u001b[0;31mNameError\u001b[0m                                 Traceback (most recent call last)",
      "\u001b[0;32m<ipython-input-31-4add252522c8>\u001b[0m in \u001b[0;36m<module>\u001b[0;34m\u001b[0m\n\u001b[0;32m----> 1\u001b[0;31m \u001b[0mdf\u001b[0m\u001b[0;34m.\u001b[0m\u001b[0mtail\u001b[0m\u001b[0;34m(\u001b[0m\u001b[0;34m)\u001b[0m\u001b[0;34m\u001b[0m\u001b[0;34m\u001b[0m\u001b[0m\n\u001b[0m",
      "\u001b[0;31mNameError\u001b[0m: name 'df' is not defined"
     ]
    }
   ],
   "source": [
    "df.tail()"
   ]
  },
  {
   "cell_type": "code",
   "execution_count": 29,
   "metadata": {},
   "outputs": [],
   "source": [
    "html = g.generate_html()"
   ]
  },
  {
   "cell_type": "code",
   "execution_count": 30,
   "metadata": {},
   "outputs": [
    {
     "data": {
      "text/plain": [
       "'<html>\\n<head>\\n<link rel=\"stylesheet\" href=\"https://cdn.jsdelivr.net/npm/vis-network@latest/styles/vis-network.css\" type=\"text/css\" />\\n<script type=\"text/javascript\" src=\"https://cdn.jsdelivr.net/npm/vis-network@latest/dist/vis-network.min.js\"> </script>\\n<center>\\n<h1></h1>\\n</center>\\n\\n<!-- <link rel=\"stylesheet\" href=\"../node_modules/vis/dist/vis.min.css\" type=\"text/css\" />\\n<script type=\"text/javascript\" src=\"../node_modules/vis/dist/vis.js\"> </script>-->\\n\\n<style type=\"text/css\">\\n\\n        #mynetwork {\\n            width: 800;\\n            height: 800;\\n            background-color: #ffffff;\\n            border: 1px solid lightgray;\\n            position: relative;\\n            float: left;\\n        }\\n\\n        \\n\\n        \\n\\n        \\n</style>\\n\\n</head>\\n\\n<body>\\n<div id = \"mynetwork\"></div>\\n\\n\\n<script type=\"text/javascript\">\\n\\n    // initialize global variables.\\n    var edges;\\n    var nodes;\\n    var network; \\n    var container;\\n    var options, data;\\n\\n    \\n    // This method is responsible for drawing the graph, returns the drawn network\\n    function drawGraph() {\\n        var container = document.getElementById(\\'mynetwork\\');\\n        \\n        \\n\\n        // parsing and collecting nodes and edges from the python\\n        nodes = new vis.DataSet([{\"id\": \"Cortical cataract (disorder)\", \"label\": \"Cortical cataract (disorder)\", \"shape\": \"dot\", \"size\": 10}, {\"id\": \"Cataract\", \"label\": \"Cataract\", \"shape\": \"dot\", \"size\": 10}, {\"id\": \"Structure of cortex of lens\", \"label\": \"Structure of cortex of lens\", \"shape\": \"dot\", \"size\": 10}, {\"color\": \"#dd4b39\", \"id\": \"Opacity\", \"label\": \"Opacity\", \"shape\": \"dot\", \"size\": 5.0}]);\\n        edges = new vis.DataSet([{\"arrows\": \"to\", \"from\": \"Cortical cataract (disorder)\", \"label\": 1, \"to\": \"Cataract\", \"weight\": 1}, {\"arrows\": \"to\", \"from\": \"Cortical cataract (disorder)\", \"label\": 1, \"to\": \"Structure of cortex of lens\", \"weight\": 1}, {\"arrows\": \"to\", \"from\": \"Cortical cataract (disorder)\", \"label\": 1, \"to\": \"Opacity\", \"weight\": 1}]);\\n\\n        // adding nodes and edges to the graph\\n        data = {nodes: nodes, edges: edges};\\n\\n        var options = {\\n    \"configure\": {\\n        \"enabled\": false\\n    },\\n    \"edges\": {\\n        \"color\": {\\n            \"inherit\": true\\n        },\\n        \"smooth\": {\\n            \"enabled\": true,\\n            \"type\": \"dynamic\"\\n        }\\n    },\\n    \"interaction\": {\\n        \"dragNodes\": true,\\n        \"hideEdgesOnDrag\": false,\\n        \"hideNodesOnDrag\": false\\n    },\\n    \"physics\": {\\n        \"enabled\": true,\\n        \"stabilization\": {\\n            \"enabled\": true,\\n            \"fit\": true,\\n            \"iterations\": 1000,\\n            \"onlyDynamicEdges\": false,\\n            \"updateInterval\": 50\\n        }\\n    }\\n};\\n        \\n        \\n\\n        \\n\\n        network = new vis.Network(container, data, options);\\n\\t \\n        \\n\\n\\n        \\n\\n        return network;\\n\\n    }\\n\\n    drawGraph();\\n\\n</script>\\n</body>\\n</html>'"
      ]
     },
     "execution_count": 30,
     "metadata": {},
     "output_type": "execute_result"
    }
   ],
   "source": [
    "html"
   ]
  },
  {
   "cell_type": "code",
   "execution_count": 26,
   "metadata": {},
   "outputs": [
    {
     "data": {
      "text/plain": [
       "[{'size': 10,\n",
       "  'id': 'Cortical cataract (disorder)',\n",
       "  'label': 'Cortical cataract (disorder)',\n",
       "  'shape': 'dot'},\n",
       " {'size': 10, 'id': 'Cataract', 'label': 'Cataract', 'shape': 'dot'},\n",
       " {'size': 10,\n",
       "  'id': 'Structure of cortex of lens',\n",
       "  'label': 'Structure of cortex of lens',\n",
       "  'shape': 'dot'},\n",
       " {'size': 50,\n",
       "  'id': 'Opacity',\n",
       "  'label': 'Opacity',\n",
       "  'shape': 'dot',\n",
       "  'color': '#dd4b39'}]"
      ]
     },
     "execution_count": 26,
     "metadata": {},
     "output_type": "execute_result"
    }
   ],
   "source": [
    "g.nodes"
   ]
  },
  {
   "cell_type": "code",
   "execution_count": null,
   "metadata": {},
   "outputs": [],
   "source": [
    "g.get_nodes()"
   ]
  },
  {
   "cell_type": "code",
   "execution_count": null,
   "metadata": {},
   "outputs": [],
   "source": [
    "g.get_node('Opacity')"
   ]
  },
  {
   "cell_type": "code",
   "execution_count": null,
   "metadata": {},
   "outputs": [],
   "source": [
    "g.get_node('Opacity')['color'] = '#00ff1e'"
   ]
  },
  {
   "cell_type": "code",
   "execution_count": null,
   "metadata": {},
   "outputs": [],
   "source": []
  },
  {
   "cell_type": "code",
   "execution_count": null,
   "metadata": {},
   "outputs": [],
   "source": [
    "d = dict(G.degree)\n",
    "d"
   ]
  },
  {
   "cell_type": "code",
   "execution_count": null,
   "metadata": {},
   "outputs": [],
   "source": [
    "scale = 10\n",
    "d.update((x, scale*y) for x, y in d.items() if y > 1)\n",
    "\n",
    "#Setting up size attribute\n",
    "nx.set_node_attributes(G, d, 'size')"
   ]
  },
  {
   "cell_type": "code",
   "execution_count": null,
   "metadata": {},
   "outputs": [],
   "source": [
    "g = Network(height='800px', width=\"100%\",bgcolor=\"#222222\",font_color=\"white\",directed=True, notebook=True)\n",
    "#g = Network(height=800, width=800, directed=True, notebook=True)\n",
    "\n",
    "#g.toggle_hide_edges_on_drag(True)\n",
    "#g.barnes_hut(spring_length=10) # use this particular physics solver\n",
    "#g.from_nx(G, node_size_transf=d)\n",
    "g.from_nx(G)\n",
    "g.show('snomed.html')"
   ]
  },
  {
   "cell_type": "code",
   "execution_count": null,
   "metadata": {},
   "outputs": [],
   "source": []
  },
  {
   "cell_type": "code",
   "execution_count": null,
   "metadata": {},
   "outputs": [],
   "source": [
    "G = nx.DiGraph()\n",
    "for id in tqdm(ids):\n",
    "    node = getConceptById(str(id)) # get a concept by its id\n",
    "    root = node['fsn']['term']\n",
    "\n",
    "    for i, r in enumerate(node['relationships']):\n",
    "        if r['characteristicType'] == 'STATED_RELATIONSHIP':\n",
    "            child = r['target']\n",
    "            child_id = child['id']\n",
    "            #child_name = child['fsn']['term'] # chose 'fsn' or 'pt'\n",
    "            child_name = child['pt']['term']\n",
    "\n",
    "            # print info\n",
    "            #print(f\"{i}\\t| {child_id}\\t| {child_name}\")\n",
    "            #print(f\"\\t\\t\\t  {r['characteristicType']}\")\n",
    "            #print()\n",
    "\n",
    "            # Construct graph\n",
    "            G.add_edges_from([(root,child_name)])"
   ]
  },
  {
   "cell_type": "code",
   "execution_count": null,
   "metadata": {},
   "outputs": [],
   "source": [
    "g = Network(height=800, width=800, directed=True, notebook=True)\n",
    "g.toggle_hide_edges_on_drag(True)\n",
    "g.barnes_hut() # use this particular physics solver\n",
    "g.from_nx(G)\n",
    "g.show('snomed.html')"
   ]
  },
  {
   "cell_type": "code",
   "execution_count": null,
   "metadata": {},
   "outputs": [],
   "source": [
    "G.number_of_nodes()"
   ]
  },
  {
   "cell_type": "markdown",
   "metadata": {},
   "source": [
    "**Exlude nonrelevant node**"
   ]
  },
  {
   "cell_type": "code",
   "execution_count": null,
   "metadata": {},
   "outputs": [],
   "source": [
    "G1 = nx.DiGraph()\n",
    "for id in tqdm(ids):\n",
    "    node = getConceptById(str(id)) # get a concept by its id\n",
    "    root = node['fsn']['term']\n",
    "\n",
    "    for i, r in enumerate(node['relationships']):\n",
    "        if r['characteristicType'] == 'STATED_RELATIONSHIP':\n",
    "            child = r['target']\n",
    "            child_id = child['id']\n",
    "            #child_name = child['fsn']['term'] # chose 'fsn' or 'pt'\n",
    "            child_name = child['pt']['term']\n",
    "\n",
    "            # print info\n",
    "            #print(f\"{i}\\t| {child_id}\\t| {child_name}\")\n",
    "            #print(f\"\\t\\t\\t  {r['characteristicType']}\")\n",
    "            #print()\n",
    "\n",
    "            # Construct graph\n",
    "            if child['conceptId'] in ids:\n",
    "                G1.add_edges_from([(root,child_name)])"
   ]
  },
  {
   "cell_type": "code",
   "execution_count": null,
   "metadata": {},
   "outputs": [],
   "source": [
    "ids[:5]"
   ]
  },
  {
   "cell_type": "code",
   "execution_count": null,
   "metadata": {},
   "outputs": [],
   "source": [
    "g1 = Network(height=800, width=800, directed=True, notebook=True)\n",
    "g1.toggle_hide_edges_on_drag(True)\n",
    "g1.barnes_hut() # use this particular physics solver\n",
    "g1.from_nx(G1)\n",
    "g1.show('snomed1.html')"
   ]
  },
  {
   "cell_type": "code",
   "execution_count": null,
   "metadata": {},
   "outputs": [],
   "source": [
    "G1.number_of_nodes()"
   ]
  },
  {
   "cell_type": "code",
   "execution_count": null,
   "metadata": {
    "scrolled": true
   },
   "outputs": [],
   "source": [
    "for name in list(G1.nodes()):\n",
    "    if 'Hereditary' in name:\n",
    "        print(name)"
   ]
  },
  {
   "cell_type": "code",
   "execution_count": null,
   "metadata": {},
   "outputs": [],
   "source": [
    "for name in list(G1.nodes()):\n",
    "    if 'Choroideremia' in name:\n",
    "        print(name)"
   ]
  },
  {
   "cell_type": "markdown",
   "metadata": {},
   "source": [
    "**Rescale nodes**"
   ]
  },
  {
   "cell_type": "code",
   "execution_count": null,
   "metadata": {},
   "outputs": [],
   "source": [
    "d = dict(G1.degree)\n",
    "scale = 3\n",
    "d_scaled = d.copy()\n",
    "d_scaled.update((x, scale*y) for x, y in d.items() if y > 1)\n",
    "\n",
    "#Setting up size attribute\n",
    "nx.set_node_attributes(G1, d_scaled, 'size')"
   ]
  },
  {
   "cell_type": "code",
   "execution_count": null,
   "metadata": {},
   "outputs": [],
   "source": [
    "g1 = Network(height=1000, width='100%', directed=True, notebook=True)\n",
    "#g1.toggle_hide_edges_on_drag(True)\n",
    "#g1.barnes_hut() # use this particular physics solver\n",
    "g1.from_nx(G1)\n",
    "g1.get_node('Hereditary retinal dystrophy')['color'] = '#dd4b39'\n",
    "g1.show('snomed1.html')"
   ]
  },
  {
   "cell_type": "code",
   "execution_count": null,
   "metadata": {},
   "outputs": [],
   "source": [
    "g1.get_node('Hereditary retinal dystrophy')"
   ]
  },
  {
   "cell_type": "code",
   "execution_count": null,
   "metadata": {},
   "outputs": [],
   "source": [
    "g1.get_node('Hereditary retinal dystrophy')['color']='r'"
   ]
  },
  {
   "cell_type": "code",
   "execution_count": null,
   "metadata": {},
   "outputs": [],
   "source": [
    "g1.get_node('Hereditary retinal dystrophy')"
   ]
  },
  {
   "cell_type": "code",
   "execution_count": null,
   "metadata": {},
   "outputs": [],
   "source": [
    "G1.nodes()"
   ]
  },
  {
   "cell_type": "code",
   "execution_count": null,
   "metadata": {},
   "outputs": [],
   "source": [
    "names = list(G1.nodes())\n",
    "names"
   ]
  },
  {
   "cell_type": "code",
   "execution_count": null,
   "metadata": {},
   "outputs": [],
   "source": [
    "name_filt = [n for n in names if 'disease' in n]\n",
    "name_filt"
   ]
  },
  {
   "cell_type": "code",
   "execution_count": null,
   "metadata": {},
   "outputs": [],
   "source": [
    "d_sorted = {k: v for k, v in sorted(d.items(), key=lambda item: item[1], reverse=True)}"
   ]
  },
  {
   "cell_type": "code",
   "execution_count": null,
   "metadata": {},
   "outputs": [],
   "source": [
    "d_sorted"
   ]
  },
  {
   "cell_type": "code",
   "execution_count": null,
   "metadata": {},
   "outputs": [],
   "source": [
    "d_scaled"
   ]
  },
  {
   "cell_type": "markdown",
   "metadata": {},
   "source": [
    "### Node size = freq"
   ]
  },
  {
   "cell_type": "code",
   "execution_count": 34,
   "metadata": {},
   "outputs": [],
   "source": [
    "df = pd.read_csv('data/snomed_id2name.csv')"
   ]
  },
  {
   "cell_type": "code",
   "execution_count": 35,
   "metadata": {},
   "outputs": [
    {
     "data": {
      "text/html": [
       "<div>\n",
       "<style scoped>\n",
       "    .dataframe tbody tr th:only-of-type {\n",
       "        vertical-align: middle;\n",
       "    }\n",
       "\n",
       "    .dataframe tbody tr th {\n",
       "        vertical-align: top;\n",
       "    }\n",
       "\n",
       "    .dataframe thead th {\n",
       "        text-align: right;\n",
       "    }\n",
       "</style>\n",
       "<table border=\"1\" class=\"dataframe\">\n",
       "  <thead>\n",
       "    <tr style=\"text-align: right;\">\n",
       "      <th></th>\n",
       "      <th>smid</th>\n",
       "      <th>freq</th>\n",
       "      <th>smname</th>\n",
       "    </tr>\n",
       "  </thead>\n",
       "  <tbody>\n",
       "    <tr>\n",
       "      <th>0</th>\n",
       "      <td>53889007</td>\n",
       "      <td>61523</td>\n",
       "      <td>Nuclear cataract</td>\n",
       "    </tr>\n",
       "    <tr>\n",
       "      <th>1</th>\n",
       "      <td>193570009</td>\n",
       "      <td>58307</td>\n",
       "      <td>Cataract</td>\n",
       "    </tr>\n",
       "    <tr>\n",
       "      <th>2</th>\n",
       "      <td>193576003</td>\n",
       "      <td>20511</td>\n",
       "      <td>Cortical cataract</td>\n",
       "    </tr>\n",
       "    <tr>\n",
       "      <th>3</th>\n",
       "      <td>315353005</td>\n",
       "      <td>13498</td>\n",
       "      <td>Posterior subcapsular cataract</td>\n",
       "    </tr>\n",
       "    <tr>\n",
       "      <th>4</th>\n",
       "      <td>95217000</td>\n",
       "      <td>12924</td>\n",
       "      <td>Pseudophakia</td>\n",
       "    </tr>\n",
       "    <tr>\n",
       "      <th>...</th>\n",
       "      <td>...</td>\n",
       "      <td>...</td>\n",
       "      <td>...</td>\n",
       "    </tr>\n",
       "    <tr>\n",
       "      <th>2232</th>\n",
       "      <td>232088004</td>\n",
       "      <td>1</td>\n",
       "      <td>Ghost cell glaucoma</td>\n",
       "    </tr>\n",
       "    <tr>\n",
       "      <th>2233</th>\n",
       "      <td>26889001</td>\n",
       "      <td>1</td>\n",
       "      <td>Myositis</td>\n",
       "    </tr>\n",
       "    <tr>\n",
       "      <th>2234</th>\n",
       "      <td>193293002</td>\n",
       "      <td>1</td>\n",
       "      <td>Old intraocular magnetic foreign body</td>\n",
       "    </tr>\n",
       "    <tr>\n",
       "      <th>2235</th>\n",
       "      <td>312944002</td>\n",
       "      <td>1</td>\n",
       "      <td>Compressive optic atrophy</td>\n",
       "    </tr>\n",
       "    <tr>\n",
       "      <th>2236</th>\n",
       "      <td>312932000</td>\n",
       "      <td>1</td>\n",
       "      <td>Idiopathic retinitis</td>\n",
       "    </tr>\n",
       "  </tbody>\n",
       "</table>\n",
       "<p>2237 rows × 3 columns</p>\n",
       "</div>"
      ],
      "text/plain": [
       "           smid   freq                                 smname\n",
       "0      53889007  61523                       Nuclear cataract\n",
       "1     193570009  58307                               Cataract\n",
       "2     193576003  20511                      Cortical cataract\n",
       "3     315353005  13498         Posterior subcapsular cataract\n",
       "4      95217000  12924                           Pseudophakia\n",
       "...         ...    ...                                    ...\n",
       "2232  232088004      1                    Ghost cell glaucoma\n",
       "2233   26889001      1                               Myositis\n",
       "2234  193293002      1  Old intraocular magnetic foreign body\n",
       "2235  312944002      1              Compressive optic atrophy\n",
       "2236  312932000      1                   Idiopathic retinitis\n",
       "\n",
       "[2237 rows x 3 columns]"
      ]
     },
     "execution_count": 35,
     "metadata": {},
     "output_type": "execute_result"
    }
   ],
   "source": [
    "df"
   ]
  },
  {
   "cell_type": "code",
   "execution_count": 39,
   "metadata": {},
   "outputs": [
    {
     "data": {
      "text/plain": [
       "61523"
      ]
     },
     "execution_count": 39,
     "metadata": {},
     "output_type": "execute_result"
    }
   ],
   "source": [
    "max(list(df.freq.values))"
   ]
  },
  {
   "cell_type": "code",
   "execution_count": 12,
   "metadata": {},
   "outputs": [],
   "source": [
    "df['fullname'] = None"
   ]
  },
  {
   "cell_type": "code",
   "execution_count": 40,
   "metadata": {},
   "outputs": [
    {
     "data": {
      "text/html": [
       "<div>\n",
       "<style scoped>\n",
       "    .dataframe tbody tr th:only-of-type {\n",
       "        vertical-align: middle;\n",
       "    }\n",
       "\n",
       "    .dataframe tbody tr th {\n",
       "        vertical-align: top;\n",
       "    }\n",
       "\n",
       "    .dataframe thead th {\n",
       "        text-align: right;\n",
       "    }\n",
       "</style>\n",
       "<table border=\"1\" class=\"dataframe\">\n",
       "  <thead>\n",
       "    <tr style=\"text-align: right;\">\n",
       "      <th></th>\n",
       "      <th>smid</th>\n",
       "      <th>freq</th>\n",
       "      <th>smname</th>\n",
       "    </tr>\n",
       "  </thead>\n",
       "  <tbody>\n",
       "    <tr>\n",
       "      <th>0</th>\n",
       "      <td>53889007</td>\n",
       "      <td>61523</td>\n",
       "      <td>Nuclear cataract</td>\n",
       "    </tr>\n",
       "    <tr>\n",
       "      <th>1</th>\n",
       "      <td>193570009</td>\n",
       "      <td>58307</td>\n",
       "      <td>Cataract</td>\n",
       "    </tr>\n",
       "    <tr>\n",
       "      <th>2</th>\n",
       "      <td>193576003</td>\n",
       "      <td>20511</td>\n",
       "      <td>Cortical cataract</td>\n",
       "    </tr>\n",
       "    <tr>\n",
       "      <th>3</th>\n",
       "      <td>315353005</td>\n",
       "      <td>13498</td>\n",
       "      <td>Posterior subcapsular cataract</td>\n",
       "    </tr>\n",
       "    <tr>\n",
       "      <th>4</th>\n",
       "      <td>95217000</td>\n",
       "      <td>12924</td>\n",
       "      <td>Pseudophakia</td>\n",
       "    </tr>\n",
       "  </tbody>\n",
       "</table>\n",
       "</div>"
      ],
      "text/plain": [
       "        smid   freq                          smname\n",
       "0   53889007  61523                Nuclear cataract\n",
       "1  193570009  58307                        Cataract\n",
       "2  193576003  20511               Cortical cataract\n",
       "3  315353005  13498  Posterior subcapsular cataract\n",
       "4   95217000  12924                    Pseudophakia"
      ]
     },
     "execution_count": 40,
     "metadata": {},
     "output_type": "execute_result"
    }
   ],
   "source": [
    "df[:5]"
   ]
  },
  {
   "cell_type": "code",
   "execution_count": 13,
   "metadata": {},
   "outputs": [
    {
     "data": {
      "text/html": [
       "<div>\n",
       "<style scoped>\n",
       "    .dataframe tbody tr th:only-of-type {\n",
       "        vertical-align: middle;\n",
       "    }\n",
       "\n",
       "    .dataframe tbody tr th {\n",
       "        vertical-align: top;\n",
       "    }\n",
       "\n",
       "    .dataframe thead th {\n",
       "        text-align: right;\n",
       "    }\n",
       "</style>\n",
       "<table border=\"1\" class=\"dataframe\">\n",
       "  <thead>\n",
       "    <tr style=\"text-align: right;\">\n",
       "      <th></th>\n",
       "      <th>smid</th>\n",
       "      <th>freq</th>\n",
       "      <th>smname</th>\n",
       "      <th>fullname</th>\n",
       "    </tr>\n",
       "  </thead>\n",
       "  <tbody>\n",
       "    <tr>\n",
       "      <th>0</th>\n",
       "      <td>53889007</td>\n",
       "      <td>61523</td>\n",
       "      <td>Nuclear cataract</td>\n",
       "      <td>Nuclear cataract (disorder)</td>\n",
       "    </tr>\n",
       "    <tr>\n",
       "      <th>1</th>\n",
       "      <td>193570009</td>\n",
       "      <td>58307</td>\n",
       "      <td>Cataract</td>\n",
       "      <td>Cataract (disorder)</td>\n",
       "    </tr>\n",
       "    <tr>\n",
       "      <th>2</th>\n",
       "      <td>193576003</td>\n",
       "      <td>20511</td>\n",
       "      <td>Cortical cataract</td>\n",
       "      <td>Cortical cataract (disorder)</td>\n",
       "    </tr>\n",
       "    <tr>\n",
       "      <th>3</th>\n",
       "      <td>315353005</td>\n",
       "      <td>13498</td>\n",
       "      <td>Posterior subcapsular cataract</td>\n",
       "      <td>Posterior subcapsular cataract (disorder)</td>\n",
       "    </tr>\n",
       "    <tr>\n",
       "      <th>4</th>\n",
       "      <td>95217000</td>\n",
       "      <td>12924</td>\n",
       "      <td>Pseudophakia</td>\n",
       "      <td>Pseudophakia (disorder)</td>\n",
       "    </tr>\n",
       "  </tbody>\n",
       "</table>\n",
       "</div>"
      ],
      "text/plain": [
       "        smid   freq                          smname  \\\n",
       "0   53889007  61523                Nuclear cataract   \n",
       "1  193570009  58307                        Cataract   \n",
       "2  193576003  20511               Cortical cataract   \n",
       "3  315353005  13498  Posterior subcapsular cataract   \n",
       "4   95217000  12924                    Pseudophakia   \n",
       "\n",
       "                                    fullname  \n",
       "0                Nuclear cataract (disorder)  \n",
       "1                        Cataract (disorder)  \n",
       "2               Cortical cataract (disorder)  \n",
       "3  Posterior subcapsular cataract (disorder)  \n",
       "4                    Pseudophakia (disorder)  "
      ]
     },
     "execution_count": 13,
     "metadata": {},
     "output_type": "execute_result"
    }
   ],
   "source": [
    "for i in range(len(df)):\n",
    "    id = df.loc[i, 'smid']\n",
    "    c = getConceptById(str(id))\n",
    "    if c:\n",
    "        df.loc[i, 'fullname'] = c['fsn']['term']\n",
    "df.head()"
   ]
  },
  {
   "cell_type": "code",
   "execution_count": null,
   "metadata": {},
   "outputs": [],
   "source": [
    "f = {row['fullname']:row['freq'] for _, row in df.iterrows()}"
   ]
  },
  {
   "cell_type": "code",
   "execution_count": null,
   "metadata": {},
   "outputs": [],
   "source": [
    "f"
   ]
  },
  {
   "cell_type": "code",
   "execution_count": null,
   "metadata": {},
   "outputs": [],
   "source": [
    "f_scaled = f.copy()\n",
    "f_scaled.update((x, y**(1/2)) for x, y in f.items() if y > 1)\n",
    "nx.set_node_attributes(G1, f_scaled, 'size')"
   ]
  },
  {
   "cell_type": "code",
   "execution_count": null,
   "metadata": {},
   "outputs": [],
   "source": [
    "g1 = Network(height=1000, width='100%', directed=True, notebook=True)\n",
    "#g1.toggle_hide_edges_on_drag(True)\n",
    "#g1.barnes_hut() # use this particular physics solver\n",
    "g1.from_nx(G1)\n",
    "g1.get_node('Hereditary retinal dystrophy')['color'] = '#dd4b39'\n",
    "g1.show('snomed2.html')"
   ]
  },
  {
   "cell_type": "code",
   "execution_count": null,
   "metadata": {},
   "outputs": [],
   "source": [
    "f_scaled"
   ]
  },
  {
   "cell_type": "markdown",
   "metadata": {},
   "source": [
    "### Node size = word count"
   ]
  },
  {
   "cell_type": "code",
   "execution_count": 46,
   "metadata": {},
   "outputs": [],
   "source": [
    "df2 = pd.read_csv('data/snomed_mean_word_count.csv', names=['fullname', 'wc'], header=0).sort_values(by='wc', ascending=False)"
   ]
  },
  {
   "cell_type": "code",
   "execution_count": 47,
   "metadata": {},
   "outputs": [
    {
     "data": {
      "text/html": [
       "<div>\n",
       "<style scoped>\n",
       "    .dataframe tbody tr th:only-of-type {\n",
       "        vertical-align: middle;\n",
       "    }\n",
       "\n",
       "    .dataframe tbody tr th {\n",
       "        vertical-align: top;\n",
       "    }\n",
       "\n",
       "    .dataframe thead th {\n",
       "        text-align: right;\n",
       "    }\n",
       "</style>\n",
       "<table border=\"1\" class=\"dataframe\">\n",
       "  <thead>\n",
       "    <tr style=\"text-align: right;\">\n",
       "      <th></th>\n",
       "      <th>fullname</th>\n",
       "      <th>wc</th>\n",
       "    </tr>\n",
       "  </thead>\n",
       "  <tbody>\n",
       "    <tr>\n",
       "      <th>2079</th>\n",
       "      <td>Ghost cell glaucoma (disorder)</td>\n",
       "      <td>448.000000</td>\n",
       "    </tr>\n",
       "    <tr>\n",
       "      <th>1993</th>\n",
       "      <td>Paralytic strabismus (disorder)</td>\n",
       "      <td>420.000000</td>\n",
       "    </tr>\n",
       "    <tr>\n",
       "      <th>494</th>\n",
       "      <td>Malignant melanoma of ciliary body (disorder)</td>\n",
       "      <td>381.130435</td>\n",
       "    </tr>\n",
       "    <tr>\n",
       "      <th>1773</th>\n",
       "      <td>Stenosis of retinal artery (disorder)</td>\n",
       "      <td>380.000000</td>\n",
       "    </tr>\n",
       "    <tr>\n",
       "      <th>1569</th>\n",
       "      <td>Ring melanoma of ciliary body (disorder)</td>\n",
       "      <td>358.500000</td>\n",
       "    </tr>\n",
       "    <tr>\n",
       "      <th>...</th>\n",
       "      <td>...</td>\n",
       "      <td>...</td>\n",
       "    </tr>\n",
       "    <tr>\n",
       "      <th>1724</th>\n",
       "      <td>Persistent miosis (disorder)</td>\n",
       "      <td>30.000000</td>\n",
       "    </tr>\n",
       "    <tr>\n",
       "      <th>1354</th>\n",
       "      <td>Congenitally small punctum lacrimale (disorder)</td>\n",
       "      <td>29.333333</td>\n",
       "    </tr>\n",
       "    <tr>\n",
       "      <th>1798</th>\n",
       "      <td>Neoplasm of uncertain behavior of choroid (dis...</td>\n",
       "      <td>25.000000</td>\n",
       "    </tr>\n",
       "    <tr>\n",
       "      <th>2178</th>\n",
       "      <td>Acquired peripheral telangiectasia (disorder)</td>\n",
       "      <td>17.000000</td>\n",
       "    </tr>\n",
       "    <tr>\n",
       "      <th>2203</th>\n",
       "      <td>Caruncle of labium (disorder)</td>\n",
       "      <td>14.000000</td>\n",
       "    </tr>\n",
       "  </tbody>\n",
       "</table>\n",
       "<p>2237 rows × 2 columns</p>\n",
       "</div>"
      ],
      "text/plain": [
       "                                               fullname          wc\n",
       "2079                     Ghost cell glaucoma (disorder)  448.000000\n",
       "1993                    Paralytic strabismus (disorder)  420.000000\n",
       "494       Malignant melanoma of ciliary body (disorder)  381.130435\n",
       "1773              Stenosis of retinal artery (disorder)  380.000000\n",
       "1569           Ring melanoma of ciliary body (disorder)  358.500000\n",
       "...                                                 ...         ...\n",
       "1724                       Persistent miosis (disorder)   30.000000\n",
       "1354    Congenitally small punctum lacrimale (disorder)   29.333333\n",
       "1798  Neoplasm of uncertain behavior of choroid (dis...   25.000000\n",
       "2178      Acquired peripheral telangiectasia (disorder)   17.000000\n",
       "2203                      Caruncle of labium (disorder)   14.000000\n",
       "\n",
       "[2237 rows x 2 columns]"
      ]
     },
     "execution_count": 47,
     "metadata": {},
     "output_type": "execute_result"
    }
   ],
   "source": [
    "df2"
   ]
  },
  {
   "cell_type": "code",
   "execution_count": null,
   "metadata": {},
   "outputs": [],
   "source": [
    "wc = {row['fullname']:row['wc'] for _, row in df2.iterrows()}\n",
    "wc_sorted = {k: v for k, v in sorted(wc.items(), key=lambda item: item[1], reverse=True)}\n",
    "wc_sorted"
   ]
  },
  {
   "cell_type": "code",
   "execution_count": null,
   "metadata": {},
   "outputs": [],
   "source": [
    "wc_scaled = wc_sorted.copy()\n",
    "wc_scaled.update((x, y/4) for x, y in wc_sorted.items() if y > 1)\n",
    "nx.set_node_attributes(G1, wc_scaled, 'size')"
   ]
  },
  {
   "cell_type": "code",
   "execution_count": null,
   "metadata": {},
   "outputs": [],
   "source": [
    "rare = [\n",
    "    'Hereditary retinal dystrophy',\n",
    "    'Hereditary macular dystrophy',\n",
    "    'Hereditary retinal dystrophy (disorder)',\n",
    "    'Hereditary optic atrophy',\n",
    "    'Hereditary macular dystrophy (disorder)',\n",
    "    'Hereditary retinal dystrophy (disorder)',\n",
    "    'X-linked retinitis pigmentosa heterozygote (disorder)',\n",
    "    'X-linked retinitis pigmentosa (disorder)',\n",
    "    'Retinitis pigmentosa (disorder)',\n",
    "    'Hereditary retinal dystrophy (disorder)']\n",
    "rare.extend([i for i in list(g1.neighbors('Hereditary retinal dystrophy'))])\n",
    "\n",
    "\n",
    "# 'Choroideremia (disorder)',"
   ]
  },
  {
   "cell_type": "code",
   "execution_count": null,
   "metadata": {},
   "outputs": [],
   "source": [
    "g1 = Network(height=1000, width='100%', notebook=True)\n",
    "#g1.toggle_hide_edges_on_drag(True)\n",
    "#g1.barnes_hut() # use this particular physics solver\n",
    "g1.from_nx(G1)\n",
    "\n",
    "rare.extend([i for i in list(g1.neighbors('Hereditary retinal dystrophy'))])\n",
    "rare.extend([i for i in list(g1.neighbors('Retinitis pigmentosa'))])\n",
    "rare.extend([i for i in list(g1.neighbors('Hereditary macular dystrophy'))])\n",
    "\n",
    "\n",
    "for r in rare:\n",
    "    g1.get_node(r)['color'] = '#dd4b39'"
   ]
  },
  {
   "cell_type": "code",
   "execution_count": null,
   "metadata": {},
   "outputs": [],
   "source": [
    "g1.show('snomed_wc.html')"
   ]
  },
  {
   "cell_type": "code",
   "execution_count": null,
   "metadata": {},
   "outputs": [],
   "source": [
    "g1.get_node('Hereditary retinal dystrophy')"
   ]
  },
  {
   "cell_type": "code",
   "execution_count": null,
   "metadata": {},
   "outputs": [],
   "source": [
    "list(g1.neighbors('Hereditary retinal dystrophy'))"
   ]
  },
  {
   "cell_type": "markdown",
   "metadata": {},
   "source": [
    "### Check overlapping between Tina's and my snomed names"
   ]
  },
  {
   "cell_type": "code",
   "execution_count": 74,
   "metadata": {},
   "outputs": [],
   "source": [
    "df = pd.read_csv('retrieved/snomed_id2name.csv') # frequency\n",
    "df['fullname'] = None\n",
    "for i in range(len(df)):\n",
    "    id = df.loc[i, 'smid']\n",
    "    c = getConceptById(str(id))\n",
    "    if c:\n",
    "        df.loc[i, 'fullname'] = c['fsn']['term']\n",
    "df.head()\n",
    "\n",
    "df2 = pd.read_csv('snomed_mean_word_count.csv', names=['fullname', 'wc'], header=0) # word count"
   ]
  },
  {
   "cell_type": "code",
   "execution_count": 75,
   "metadata": {},
   "outputs": [
    {
     "data": {
      "text/plain": [
       "2212"
      ]
     },
     "execution_count": 75,
     "metadata": {},
     "output_type": "execute_result"
    }
   ],
   "source": [
    "names = [c['fsn']['term'] for c in db]\n",
    "len(names)"
   ]
  },
  {
   "cell_type": "code",
   "execution_count": 76,
   "metadata": {},
   "outputs": [
    {
     "data": {
      "text/plain": [
       "['Vitreoretinal degeneration (disorder)',\n",
       " 'Hemangioma of choroid (disorder)',\n",
       " 'Autosomal recessive ocular albinism (disorder)',\n",
       " 'Cataract secondary to ocular disease (disorder)',\n",
       " 'Pterygium (disorder)']"
      ]
     },
     "execution_count": 76,
     "metadata": {},
     "output_type": "execute_result"
    }
   ],
   "source": [
    "names[:5]"
   ]
  },
  {
   "cell_type": "code",
   "execution_count": 77,
   "metadata": {},
   "outputs": [
    {
     "data": {
      "text/plain": [
       "2237"
      ]
     },
     "execution_count": 77,
     "metadata": {},
     "output_type": "execute_result"
    }
   ],
   "source": [
    "tinas = list(df2.fullname)\n",
    "len(tinas)"
   ]
  },
  {
   "cell_type": "code",
   "execution_count": 78,
   "metadata": {},
   "outputs": [
    {
     "data": {
      "text/plain": [
       "['Nuclear cataract (disorder)',\n",
       " 'Cataract (disorder)',\n",
       " 'Cortical cataract (disorder)',\n",
       " 'Posterior subcapsular cataract (disorder)',\n",
       " 'Pseudophakia (disorder)']"
      ]
     },
     "execution_count": 78,
     "metadata": {},
     "output_type": "execute_result"
    }
   ],
   "source": [
    "tinas[:5]"
   ]
  },
  {
   "cell_type": "code",
   "execution_count": 79,
   "metadata": {},
   "outputs": [
    {
     "data": {
      "text/plain": [
       "2237"
      ]
     },
     "execution_count": 79,
     "metadata": {},
     "output_type": "execute_result"
    }
   ],
   "source": [
    "freq = list(df.fullname)\n",
    "len(freq)"
   ]
  },
  {
   "cell_type": "code",
   "execution_count": 80,
   "metadata": {},
   "outputs": [
    {
     "data": {
      "text/plain": [
       "['Nuclear cataract (disorder)',\n",
       " 'Cataract (disorder)',\n",
       " 'Cortical cataract (disorder)',\n",
       " 'Posterior subcapsular cataract (disorder)',\n",
       " 'Pseudophakia (disorder)']"
      ]
     },
     "execution_count": 80,
     "metadata": {},
     "output_type": "execute_result"
    }
   ],
   "source": [
    "freq[:5]"
   ]
  },
  {
   "cell_type": "code",
   "execution_count": 81,
   "metadata": {},
   "outputs": [
    {
     "data": {
      "text/plain": [
       "131"
      ]
     },
     "execution_count": 81,
     "metadata": {},
     "output_type": "execute_result"
    }
   ],
   "source": [
    "diff = set(freq).difference(set(tinas))\n",
    "len(diff)"
   ]
  },
  {
   "cell_type": "code",
   "execution_count": 82,
   "metadata": {},
   "outputs": [
    {
     "data": {
      "text/plain": [
       "['Congenital cyst of conjunctiva (disorder)',\n",
       " 'Severe nonproliferative retinopathy with clinically significant macular edema co-occurrent and due to diabetes mellitus (disorder)',\n",
       " 'Giant papillary conjunctivitis caused by contact lens (disorder)',\n",
       " 'Corneal incision leaking (finding)',\n",
       " 'Removal of conjunctival sutures (procedure)']"
      ]
     },
     "execution_count": 82,
     "metadata": {},
     "output_type": "execute_result"
    }
   ],
   "source": [
    "list(diff)[:5]"
   ]
  },
  {
   "cell_type": "code",
   "execution_count": 83,
   "metadata": {},
   "outputs": [
    {
     "data": {
      "text/plain": [
       "155"
      ]
     },
     "execution_count": 83,
     "metadata": {},
     "output_type": "execute_result"
    }
   ],
   "source": [
    "diff = set(tinas).difference(set(freq))\n",
    "len(diff)"
   ]
  },
  {
   "cell_type": "code",
   "execution_count": 84,
   "metadata": {},
   "outputs": [
    {
     "data": {
      "text/plain": [
       "2082"
      ]
     },
     "execution_count": 84,
     "metadata": {},
     "output_type": "execute_result"
    }
   ],
   "source": [
    "inter = set(freq).intersection(set(tinas))\n",
    "len(inter)"
   ]
  },
  {
   "cell_type": "code",
   "execution_count": 85,
   "metadata": {},
   "outputs": [
    {
     "data": {
      "text/plain": [
       "1681"
      ]
     },
     "execution_count": 85,
     "metadata": {},
     "output_type": "execute_result"
    }
   ],
   "source": [
    "df_rm = df[df['freq'] > 1 ]\n",
    "len(df_rm)"
   ]
  },
  {
   "cell_type": "code",
   "execution_count": 86,
   "metadata": {},
   "outputs": [
    {
     "data": {
      "text/plain": [
       "1556"
      ]
     },
     "execution_count": 86,
     "metadata": {},
     "output_type": "execute_result"
    }
   ],
   "source": [
    "inter = set(df_rm.fullname).intersection(set(tinas))\n",
    "len(inter)"
   ]
  },
  {
   "cell_type": "code",
   "execution_count": 87,
   "metadata": {},
   "outputs": [
    {
     "data": {
      "text/plain": [
       "['Nuclear sclerotic cataract (disorder)',\n",
       " 'Divergent concomitant strabismus (disorder)',\n",
       " 'Secondary angle-closure glaucoma with pupil block (disorder)',\n",
       " 'Pseudocoloboma of iris (disorder)',\n",
       " 'Exotropia (disorder)']"
      ]
     },
     "execution_count": 87,
     "metadata": {},
     "output_type": "execute_result"
    }
   ],
   "source": [
    "list(inter)[:5]"
   ]
  },
  {
   "cell_type": "code",
   "execution_count": 88,
   "metadata": {},
   "outputs": [
    {
     "name": "stderr",
     "output_type": "stream",
     "text": [
      "100%|██████████| 2212/2212 [00:02<00:00, 1002.11it/s]\n"
     ]
    }
   ],
   "source": [
    "G1 = nx.Graph()\n",
    "scale = 1/4\n",
    "for id in tqdm(ids):\n",
    "    node = getConceptById(str(id)) # get a concept by its id\n",
    "    root = node['fsn']['term']\n",
    "    if root not in list(inter):\n",
    "        continue\n",
    "        \n",
    "    G1.add_node(root, label=node['pt']['term'], title=node['pt']['term'], \n",
    "                size=df2.loc[df2.fullname==root, 'wc'].values[0]*scale)\n",
    "    \n",
    "    for i, r in enumerate(node['relationships']):\n",
    "        if r['characteristicType'] == 'STATED_RELATIONSHIP':\n",
    "            child = r['target']\n",
    "            child_id = child['id']\n",
    "            #child_name = child['fsn']['term'] # chose 'fsn' or 'pt'\n",
    "            child_name = child['fsn']['term']\n",
    "\n",
    "            # print info\n",
    "            #print(f\"{i}\\t| {child_id}\\t| {child_name}\")\n",
    "            #print(f\"\\t\\t\\t  {r['characteristicType']}\")\n",
    "            #print()\n",
    "\n",
    "            # Construct graph\n",
    "            if child_name in list(inter):\n",
    "                G1.add_node(child_name, label=child['pt']['term'], title=child['pt']['term'],\n",
    "                            size=df2.loc[df2.fullname==child_name, 'wc'].values[0]*scale)\n",
    "                G1.add_edge(root,child_name)"
   ]
  },
  {
   "cell_type": "code",
   "execution_count": 89,
   "metadata": {},
   "outputs": [
    {
     "name": "stdout",
     "output_type": "stream",
     "text": [
      "1556\n",
      "1340\n"
     ]
    }
   ],
   "source": [
    "print(G1.number_of_nodes())\n",
    "print(G1.number_of_edges())"
   ]
  },
  {
   "cell_type": "markdown",
   "metadata": {},
   "source": [
    "**With colours**"
   ]
  },
  {
   "cell_type": "code",
   "execution_count": 101,
   "metadata": {},
   "outputs": [],
   "source": [
    "def coloring(node_list, color, g):\n",
    "    node_list_out = node_list.copy()\n",
    "\n",
    "    for n in node_list:    \n",
    "        node_list_out.extend([i for i in list(g.neighbors(n)) if i not in node_list_out])\n",
    "\n",
    "    for n in node_list_out:\n",
    "        g.get_node(n)['color'] = color"
   ]
  },
  {
   "cell_type": "code",
   "execution_count": 123,
   "metadata": {},
   "outputs": [],
   "source": [
    "g1 = Network(height=1500, width='100%', notebook=True)\n",
    "#g1.toggle_hide_edges_on_drag(True)\n",
    "#g1.barnes_hut(spring_length=1, damping=0.6, overlap=0.6) # use this particular physics solver\n",
    "g1.from_nx(G1)\n",
    "#g1.get_node('Hereditary retinal dystrophy')['color'] = '#dd4b39'''\n"
   ]
  },
  {
   "cell_type": "code",
   "execution_count": 124,
   "metadata": {},
   "outputs": [],
   "source": [
    "# coloring\n",
    "\n",
    "# ------ rare diseases---------\n",
    "rare = [\n",
    "    'Hereditary macular dystrophy (disorder)',\n",
    "    'Hereditary retinal dystrophy (disorder)',\n",
    "    'X-linked retinitis pigmentosa (disorder)',\n",
    "    'Retinitis pigmentosa (disorder)',\n",
    "    \"Oguchi's disease (disorder)\",\n",
    "    'Congenital hereditary endothelial dystrophy (disorder)', \n",
    "    'Dominant hereditary optic atrophy (disorder)']\n",
    "coloring(rare, '#dd4b39', g1) # red\n",
    "\n",
    "    \n",
    "# ------- Cataract -----------\n",
    "cata = [\n",
    "    'Cataract (disorder)', 'Congenital cataract (disorder)',\n",
    "    'Subcapsular cataract (disorder)']\n",
    "coloring(cata, '#eb34bd', g1) # magneta\n",
    "\n",
    "\n",
    "# ------- glaucoma -----------\n",
    "glau = [\n",
    "    'Glaucoma (disorder)', 'Secondary glaucoma (disorder)',\n",
    "    'Open-angle glaucoma (disorder)', 'Primary angle-closure glaucoma (disorder)']\n",
    "coloring(glau, '#00ff1e', g1) # green\n",
    "\n",
    "    \n",
    "# ------- infect -----------\n",
    "infe = [\n",
    "    'Uveitis (disorder)',\n",
    "    'Conjunctivitis (disorder)', 'Viral conjunctivitis (disorder)',\n",
    "    'Keratitis (disorder)', 'Scleritis (disorder)', 'Keratoconjunctivitis (disorder)', 'Varicella (disorder)',\n",
    "    'Chorioretinitis (disorder)', 'Retinitis (disorder)', 'Iritis (disorder)']\n",
    "coloring(infe, '#162347', g1) # black"
   ]
  },
  {
   "cell_type": "code",
   "execution_count": 125,
   "metadata": {},
   "outputs": [
    {
     "data": {
      "text/html": [
       "\n",
       "        <iframe\n",
       "            width=\"100%\"\n",
       "            height=\"1500\"\n",
       "            src=\"snomed2.html\"\n",
       "            frameborder=\"0\"\n",
       "            allowfullscreen\n",
       "        ></iframe>\n",
       "        "
      ],
      "text/plain": [
       "<IPython.lib.display.IFrame at 0x7fa252538438>"
      ]
     },
     "execution_count": 125,
     "metadata": {},
     "output_type": "execute_result"
    }
   ],
   "source": [
    "g1.show('snomed2.html')"
   ]
  },
  {
   "cell_type": "code",
   "execution_count": null,
   "metadata": {},
   "outputs": [],
   "source": [
    "g1.nodes"
   ]
  },
  {
   "cell_type": "code",
   "execution_count": 41,
   "metadata": {},
   "outputs": [
    {
     "data": {
      "text/plain": [
       "['Retinitis pigmentosa (disorder)']"
      ]
     },
     "execution_count": 41,
     "metadata": {},
     "output_type": "execute_result"
    }
   ],
   "source": [
    "list(g1.neighbors('X-linked retinitis pigmentosa (disorder)'))"
   ]
  },
  {
   "cell_type": "code",
   "execution_count": 92,
   "metadata": {},
   "outputs": [
    {
     "data": {
      "text/plain": [
       "{'title': \"Oguchi's disease\",\n",
       " 'size': 86,\n",
       " 'id': \"Oguchi's disease (disorder)\",\n",
       " 'label': \"Oguchi's disease\",\n",
       " 'shape': 'dot',\n",
       " 'color': '#dd4b39'}"
      ]
     },
     "execution_count": 92,
     "metadata": {},
     "output_type": "execute_result"
    }
   ],
   "source": [
    "g1.get_node(\"Oguchi's disease (disorder)\")"
   ]
  },
  {
   "cell_type": "code",
   "execution_count": 108,
   "metadata": {},
   "outputs": [
    {
     "name": "stdout",
     "output_type": "stream",
     "text": [
      "Secondary glaucoma (disorder)\n",
      "Angle recession glaucoma (disorder)\n",
      "Secondary glaucoma due to combination mechanisms (disorder)\n",
      "Secondary open-angle glaucoma (disorder)\n",
      "Secondary angle-closure glaucoma (disorder)\n",
      "Acute-on-chronic glaucoma (disorder)\n",
      "Angle-closure glaucoma (disorder)\n",
      "Anatomical narrow angle glaucoma (disorder)\n",
      "Acute angle-closure glaucoma (disorder)\n",
      "Borderline glaucoma (disorder)\n",
      "Primary congenital glaucoma (disorder)\n",
      "Open-angle glaucoma (disorder)\n",
      "Absolute glaucoma (disorder)\n",
      "Low tension glaucoma (disorder)\n",
      "Primary angle-closure glaucoma (disorder)\n",
      "Primary angle-closure glaucoma residual stage (disorder)\n",
      "Open-angle glaucoma - borderline (disorder)\n",
      "Steroid-induced glaucoma - borderline (disorder)\n",
      "Angle-closure glaucoma - borderline (disorder)\n",
      "Neovascular glaucoma (disorder)\n",
      "Phacomorphic glaucoma (disorder)\n",
      "Secondary angle-closure glaucoma - synechial (disorder)\n",
      "Secondary angle-closure glaucoma with pupil block (disorder)\n",
      "Malignant glaucoma (disorder)\n",
      "Phacolytic glaucoma (disorder)\n",
      "Advanced open-angle glaucoma (disorder)\n",
      "Primary open angle glaucoma (disorder)\n",
      "Residual stage of open angle glaucoma (disorder)\n",
      "Pigmentary glaucoma (disorder)\n",
      "Steroid-induced glaucoma glaucomatous stage (disorder)\n",
      "Corticosteroid-induced glaucoma (disorder)\n",
      "Drug-induced glaucoma (disorder)\n",
      "Steroid-induced glaucoma residual stage (disorder)\n",
      "Pseudoexfoliation glaucoma (disorder)\n",
      "Uveitis-hyphema-glaucoma syndrome (disorder)\n",
      "Uveitic glaucoma (disorder)\n"
     ]
    }
   ],
   "source": [
    "for n in g1.nodes:\n",
    "    if \"glaucoma\" in n['id']:\n",
    "        print(n['id'])"
   ]
  },
  {
   "cell_type": "code",
   "execution_count": 120,
   "metadata": {},
   "outputs": [],
   "source": [
    "for n in g1.nodes:\n",
    "    if \"inherited\" in n['id']:\n",
    "        print(n['id'])"
   ]
  },
  {
   "cell_type": "code",
   "execution_count": null,
   "metadata": {},
   "outputs": [],
   "source": []
  }
 ],
 "metadata": {
  "interpreter": {
   "hash": "e3bb21f06dfb2c26e6bb611c5d97f026a6e6a0804e566c465e3b206a60f2412e"
  },
  "kernelspec": {
   "display_name": "Python 3",
   "language": "python",
   "name": "python3"
  },
  "language_info": {
   "codemirror_mode": {
    "name": "ipython",
    "version": 3
   },
   "file_extension": ".py",
   "mimetype": "text/x-python",
   "name": "python",
   "nbconvert_exporter": "python",
   "pygments_lexer": "ipython3",
   "version": "3.7.3"
  }
 },
 "nbformat": 4,
 "nbformat_minor": 2
}
